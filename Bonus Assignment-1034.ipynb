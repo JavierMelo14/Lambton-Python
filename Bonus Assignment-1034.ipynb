{
 "cells": [
  {
   "attachments": {},
   "cell_type": "markdown",
   "metadata": {},
   "source": [
    "BDM 1034 - Application Design for Big Data 01\n",
    "\n",
    "Presented by Javier Melo C0871987\n"
   ]
  },
  {
   "cell_type": "code",
   "execution_count": 102,
   "metadata": {},
   "outputs": [],
   "source": [
    "import pandas as pd\n",
    "from sklearn.model_selection import train_test_split\n",
    "from sklearn.linear_model import LinearRegression\n",
    "import pickle\n"
   ]
  },
  {
   "cell_type": "code",
   "execution_count": 143,
   "metadata": {},
   "outputs": [
    {
     "name": "stdout",
     "output_type": "stream",
     "text": [
      "       crim    zn  indus  chas    nox     rm    age     dis  rad  tax  \\\n",
      "0   0.00632  18.0   2.31     0  0.538  6.575   65.2  4.0900    1  296   \n",
      "1   0.02731   0.0   7.07     0  0.469  6.421   78.9  4.9671    2  242   \n",
      "2   0.02729   0.0   7.07     0  0.469  7.185   61.1  4.9671    2  242   \n",
      "3   0.03237   0.0   2.18     0  0.458  6.998   45.8  6.0622    3  222   \n",
      "4   0.06905   0.0   2.18     0  0.458  7.147   54.2  6.0622    3  222   \n",
      "5   0.02985   0.0   2.18     0  0.458  6.430   58.7  6.0622    3  222   \n",
      "6   0.08829  12.5   7.87     0  0.524  6.012   66.6  5.5605    5  311   \n",
      "7   0.14455  12.5   7.87     0  0.524  6.172   96.1  5.9505    5  311   \n",
      "8   0.21124  12.5   7.87     0  0.524  5.631  100.0  6.0821    5  311   \n",
      "9   0.17004  12.5   7.87     0  0.524  6.004   85.9  6.5921    5  311   \n",
      "10  0.22489  12.5   7.87     0  0.524  6.377   94.3  6.3467    5  311   \n",
      "11  0.11747  12.5   7.87     0  0.524  6.009   82.9  6.2267    5  311   \n",
      "12  0.09378  12.5   7.87     0  0.524  5.889   39.0  5.4509    5  311   \n",
      "13  0.62976   0.0   8.14     0  0.538  5.949   61.8  4.7075    4  307   \n",
      "14  0.63796   0.0   8.14     0  0.538  6.096   84.5  4.4619    4  307   \n",
      "15  0.62739   0.0   8.14     0  0.538  5.834   56.5  4.4986    4  307   \n",
      "16  1.05393   0.0   8.14     0  0.538  5.935   29.3  4.4986    4  307   \n",
      "17  0.78420   0.0   8.14     0  0.538  5.990   81.7  4.2579    4  307   \n",
      "18  0.80271   0.0   8.14     0  0.538  5.456   36.6  3.7965    4  307   \n",
      "19  0.72580   0.0   8.14     0  0.538  5.727   69.5  3.7965    4  307   \n",
      "\n",
      "    ptratio       b  lstat  medv  \n",
      "0      15.3  396.90   4.98  24.0  \n",
      "1      17.8  396.90   9.14  21.6  \n",
      "2      17.8  392.83   4.03  34.7  \n",
      "3      18.7  394.63   2.94  33.4  \n",
      "4      18.7  396.90   5.33  36.2  \n",
      "5      18.7  394.12   5.21  28.7  \n",
      "6      15.2  395.60  12.43  22.9  \n",
      "7      15.2  396.90  19.15  27.1  \n",
      "8      15.2  386.63  29.93  16.5  \n",
      "9      15.2  386.71  17.10  18.9  \n",
      "10     15.2  392.52  20.45  15.0  \n",
      "11     15.2  396.90  13.27  18.9  \n",
      "12     15.2  390.50  15.71  21.7  \n",
      "13     21.0  396.90   8.26  20.4  \n",
      "14     21.0  380.02  10.26  18.2  \n",
      "15     21.0  395.62   8.47  19.9  \n",
      "16     21.0  386.85   6.58  23.1  \n",
      "17     21.0  386.75  14.67  17.5  \n",
      "18     21.0  288.99  11.69  20.2  \n",
      "19     21.0  390.95  11.28  18.2  \n"
     ]
    }
   ],
   "source": [
    "# Reading CSV file\n",
    "boston = pd.read_csv('C:\\\\Users\\\\Javier Melo\\\\OneDrive - Lambton College\\\\Lambton College\\\\Second Term\\\\2203 - Advanced Python\\\\Files_Data\\\\BostonHousing.csv')\n",
    "\n",
    "# Generating dataframe\n",
    "boston_df = pd.DataFrame(boston)\n",
    "X = boston_df[['crim','indus','nox','rm','age','dis','rad','tax','ptratio','b','lstat']]\n",
    "y = boston_df['medv']\n",
    "X_train, X_test, y_train, y_test = train_test_split(X, y, test_size=0.2, random_state=42)\n",
    "\n",
    "# printing a few records of dataset\n",
    "print(boston_df.head(20))"
   ]
  },
  {
   "attachments": {},
   "cell_type": "markdown",
   "metadata": {},
   "source": [
    "With this piece of code it's trained the model using linear regression and adding one more column to the original dataset in that column is the prediction information"
   ]
  },
  {
   "cell_type": "code",
   "execution_count": 147,
   "metadata": {},
   "outputs": [
    {
     "name": "stdout",
     "output_type": "stream",
     "text": [
      "        crim    zn  indus  chas    nox     rm   age     dis  rad  tax  \\\n",
      "0    0.00632  18.0   2.31     0  0.538  6.575  65.2  4.0900    1  296   \n",
      "1    0.02731   0.0   7.07     0  0.469  6.421  78.9  4.9671    2  242   \n",
      "2    0.02729   0.0   7.07     0  0.469  7.185  61.1  4.9671    2  242   \n",
      "3    0.03237   0.0   2.18     0  0.458  6.998  45.8  6.0622    3  222   \n",
      "4    0.06905   0.0   2.18     0  0.458  7.147  54.2  6.0622    3  222   \n",
      "..       ...   ...    ...   ...    ...    ...   ...     ...  ...  ...   \n",
      "501  0.06263   0.0  11.93     0  0.573  6.593  69.1  2.4786    1  273   \n",
      "502  0.04527   0.0  11.93     0  0.573  6.120  76.7  2.2875    1  273   \n",
      "503  0.06076   0.0  11.93     0  0.573  6.976  91.0  2.1675    1  273   \n",
      "504  0.10959   0.0  11.93     0  0.573  6.794  89.3  2.3889    1  273   \n",
      "505  0.04741   0.0  11.93     0  0.573  6.030  80.8  2.5050    1  273   \n",
      "\n",
      "     ptratio       b  lstat  medv  prediction  \n",
      "0       15.3  396.90   4.98  24.0   30.370002  \n",
      "1       17.8  396.90   9.14  21.6   25.824155  \n",
      "2       17.8  392.83   4.03  34.7   32.077751  \n",
      "3       18.7  394.63   2.94  33.4   30.012457  \n",
      "4       18.7  396.90   5.33  36.2   29.421937  \n",
      "..       ...     ...    ...   ...         ...  \n",
      "501     21.0  391.99   9.67  22.4   24.083423  \n",
      "502     21.0  396.90   9.08  20.6   22.457533  \n",
      "503     21.0  396.90   5.64  23.9   28.224270  \n",
      "504     21.0  393.45   6.48  22.0   26.631969  \n",
      "505     21.0  396.90   7.88  11.9   22.355538  \n",
      "\n",
      "[506 rows x 15 columns]\n"
     ]
    }
   ],
   "source": [
    "lr = LinearRegression()\n",
    "\n",
    "lr.fit(X_train, y_train)\n",
    "y_pred_test= lr.predict(X_test)\n",
    "\n",
    "y_pred = lr.predict(X)\n",
    "boston_df['prediction'] = y_pred\n",
    "boston_df.to_csv('newdf.csv', index=False)\n",
    "print(boston_df)\n"
   ]
  },
  {
   "attachments": {},
   "cell_type": "markdown",
   "metadata": {},
   "source": [
    "Once the model is trained this is saved in a file pickle and print the prediction generated with the model."
   ]
  },
  {
   "cell_type": "code",
   "execution_count": 117,
   "metadata": {},
   "outputs": [
    {
     "name": "stdout",
     "output_type": "stream",
     "text": [
      "[28.99672362 36.02556534 14.81694405 25.03197915 18.76987992 23.25442929\n",
      " 17.66253818 14.34119    23.01320703 20.63245597 24.90850512 18.63883645\n",
      " -6.08842184 21.75834668 19.23922576 26.19319733 20.64773313  5.79472718\n",
      " 40.50033966 17.61289074 27.24909479 30.06625441 11.34179277 24.16077616\n",
      " 17.86058499 15.83609765 22.78148106 14.57704449 22.43626052 19.19631835\n",
      " 22.43383455 25.21979081 25.93909562 17.70162434 16.76911711 16.95125411\n",
      " 31.23340153 20.13246729 23.76579011 24.6322925  13.94204955 32.25576301\n",
      " 42.67251161 17.32745046 27.27618614 16.99310991 14.07009109 25.90341861\n",
      " 20.29485982 29.95339638 21.28860173 34.34451856 16.04739105 26.22562412\n",
      " 39.53939798 22.57950697 18.84531367 32.72531661 25.0673037  12.88628956\n",
      " 22.68221908 30.48287757 31.52626806 15.90148607 20.22094826 16.71089812\n",
      " 20.52384893 25.96356264 30.61607978 11.59783023 20.51232627 27.48111878\n",
      " 11.01962332 15.68096344 23.79316251  6.19929359 21.6039073  41.41377225\n",
      " 18.76548695  8.87931901 20.83076916 13.25620627 20.73963699  9.36482222\n",
      " 23.22444271 31.9155003  19.10228271 25.51579303 29.04256769 20.14358566\n",
      " 25.5859787   5.70159447 20.09474756 14.95069156 12.50395648 20.72635294\n",
      " 24.73957161 -0.164237   13.68486682 16.18359697 22.27621999 24.47902364]\n"
     ]
    }
   ],
   "source": [
    "# Guarda el modelo entrenado en un archivo pickle\n",
    "with open('model.pkl', 'wb') as f:\n",
    "    pickle.dump(lr, f)\n",
    "\n",
    "with open('model.pkl', 'rb') as f:\n",
    "    model = pickle.load(f)\n",
    "\n",
    "# Usa el modelo para hacer una predicción\n",
    "print(model.predict(X_test))"
   ]
  },
  {
   "attachments": {},
   "cell_type": "markdown",
   "metadata": {},
   "source": [
    "**Paragraph **\n",
    "\n",
    "Pickle files can be integrated with web applications to save the trained machine learning models and use them for predictions in real-time. The pickle module allows for easy serialization and deserialization of Python objects, including machine learning models. Once a model has been trained and saved as a pickle file, it can be loaded and used in a web application to make predictions on incoming data. The process of integrating a pickle file with a web application involves loading the pickle file into memory when the application starts, and then using the loaded model to make predictions when new data is received. This approach allows for faster and more efficient predictions, as the trained model does not need to be retrained every time the application is started or new data is received. Additionally, using pickle files in web applications can simplify the deployment process, as the trained model can be easily loaded and used by multiple instances of the application running on different servers."
   ]
  }
 ],
 "metadata": {
  "kernelspec": {
   "display_name": "Python 3",
   "language": "python",
   "name": "python3"
  },
  "language_info": {
   "codemirror_mode": {
    "name": "ipython",
    "version": 3
   },
   "file_extension": ".py",
   "mimetype": "text/x-python",
   "name": "python",
   "nbconvert_exporter": "python",
   "pygments_lexer": "ipython3",
   "version": "3.10.7"
  },
  "orig_nbformat": 4
 },
 "nbformat": 4,
 "nbformat_minor": 2
}
